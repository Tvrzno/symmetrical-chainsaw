{
 "cells": [
  {
   "cell_type": "code",
   "execution_count": 3,
   "id": "d255a5dc",
   "metadata": {},
   "outputs": [],
   "source": [
    "import os\n",
    "import exifread\n",
    "import pandas as pd\n",
    "\n",
    "\n",
    "# Adresář, ve kterém se nachází fotografie\n",
    "# C:\\diplomka\\TriDvory2007\n",
    "# D:\\skola\\diplomka\\TriDvory2007-20230731T071121Z-001\\TriDvory2007\n",
    "fotky_adresar = 'C:\\diplomka\\TriDvory2007'\n",
    "\n",
    "# Funkce pro extrakci EXIF dat z jedné fotografie\n",
    "def extrahovat_exif(foto):\n",
    "    with open(foto, 'rb') as soubor:\n",
    "        tags = exifread.process_file(soubor, details=False)\n",
    "        return tags\n",
    "\n",
    "# Seznam všech fotografií v adresáři\n",
    "fotky = [os.path.join(fotky_adresar, soubor) for soubor in os.listdir(fotky_adresar) if soubor.lower().endswith(('.jpg', '.jpeg', '.png', '.gif'))]\n",
    "\n",
    "# Název výstupního textového souboru\n",
    "vystupni_soubor = 'exif_data.txt'\n",
    "\n",
    "# Otevřít textový soubor pro zápis všeho\n",
    "with open(vystupni_soubor, 'w') as soubor:\n",
    "    for foto in fotky:\n",
    "        exif_data = extrahovat_exif(foto)\n",
    "        soubor.write(f\"EXIF data pro fotografii: {foto}\\n\")\n",
    "        for tag, hodnota in exif_data.items():\n",
    "            soubor.write(f\"{tag}: {hodnota}\\n\")\n",
    "        soubor.write(\"\\n\")\n",
    "\n",
    "print(f\"EXIF data byla uložena do souboru {vystupni_soubor}\")"
   ]
  },
  {
   "cell_type": "code",
   "execution_count": 5,
   "id": "dcea4de0",
   "metadata": {},
   "outputs": [
    {
     "name": "stdout",
     "output_type": "stream",
     "text": [
      "EXIF data byla uložena do souboru exif_gps_data.txt\n"
     ]
    }
   ],
   "source": [
    "# Název výstupního textového souboru souřadnic\n",
    "#smrt\n",
    "vystupni_soubor_gps = 'exif_gps_data.txt'\n",
    "\n",
    "def Zlomek_float(string):\n",
    "    string = str(string)\n",
    "    cit, jmen = string.split( '/' )\n",
    "    return float(cit)/float(jmen)\n",
    "\n",
    "def Souradnice_list(string):\n",
    "    souradnice_str = str(hodnota).replace(\"[\", \"\").replace(\"]\", \"\")\n",
    "    li = list(souradnice_str.split(\", \"))\n",
    "    li[0] = int(li[0])\n",
    "    li[1] = int(li[1])\n",
    "    li[2] = Zlomek_float(li[2])\n",
    "    return li\n",
    "\n",
    "\n",
    "# Otevřít textový soubor pro zápis souřadnic\n",
    "with open(vystupni_soubor_gps, 'w') as soubor:\n",
    "    for foto in fotky:\n",
    "        exif_data = extrahovat_exif(foto)\n",
    "        soubor.write(f\"{foto} \")\n",
    "        for tag, hodnota in exif_data.items():\n",
    "            if (tag == 'GPS GPSLatitude' or tag == 'GPS GPSLongitude'):\n",
    "                #upravena_hodnota = str(hodnota).replace(\",\", \"\").replace(\"[\", \"\").replace(\"]\", \"\")\n",
    "                souradnice_li = Souradnice_list(hodnota)\n",
    "                souradnice_str = str(souradnice_li).replace(\",\", \"\").replace(\"[\", \"\").replace(\"]\", \"\")\n",
    "                soubor.write(f\"{souradnice_str} \")\n",
    "                \n",
    "            elif (tag == 'GPS GPSAltitude'):\n",
    "                vyska_float = Zlomek_float(hodnota)\n",
    "                soubor.write(f\"{vyska_float}\")\n",
    "                \n",
    "        soubor.write(\"\\n\")\n",
    "\n",
    "print(f\"EXIF data byla uložena do souboru {vystupni_soubor_gps}\")"
   ]
  },
  {
   "cell_type": "code",
   "execution_count": null,
   "id": "e83ffb09",
   "metadata": {},
   "outputs": [],
   "source": [
    "vystupni_soubor_before = 'before_merge.txt'\n",
    "\n",
    "# Otevřít textový soubor pro zápis souřadnic\n",
    "with open(vystupni_soubor_gps, 'w') as soubor:\n",
    "    for foto in fotky:\n",
    "        exif_data = extrahovat_exif(foto)\n",
    "        soubor.write(f\"{foto} \")\n",
    "        for tag, hodnota in exif_data.items():\n",
    "            if (tag == 'GPS GPSLatitude' or tag == 'GPS GPSLongitude'):\n",
    "                #upravena_hodnota = str(hodnota).replace(\",\", \"\").replace(\"[\", \"\").replace(\"]\", \"\")\n",
    "                souradnice_li = Souradnice_list(hodnota)\n",
    "                souradnice_str = str(souradnice_li).replace(\",\", \"\").replace(\"[\", \"\").replace(\"]\", \"\")\n",
    "                soubor.write(f\"{souradnice_str} \")\n",
    "                \n",
    "            elif (tag == 'GPS GPSAltitude'):\n",
    "                vyska_float = Zlomek_float(hodnota)\n",
    "                soubor.write(f\"{vyska_float}\")\n",
    "                \n",
    "        soubor.write(\"\\n\")\n",
    "        \n",
    "print(f\"EXIF data byla uložena do souboru {vystupni_soubor_before}\")"
   ]
  },
  {
   "cell_type": "markdown",
   "id": "84149fa2",
   "metadata": {},
   "source": [
    "Name\n",
    "GpsLatitude\n",
    "GpsLongitude\n",
    "GpsAltitude\n",
    "RtkStdLat\n",
    "RtkStdLon\n",
    "GimbalYawDegree\n",
    "GimbalPitchDegree\n",
    "GimbalRollDegree"
   ]
  },
  {
   "cell_type": "code",
   "execution_count": 9,
   "id": "5e9ddfd4",
   "metadata": {},
   "outputs": [
    {
     "name": "stdout",
     "output_type": "stream",
     "text": [
      "DJI_20230720093600_0039_D.JPG\t-684560.978 -1056447.577 233.638\t\t\n",
      "\n"
     ]
    }
   ],
   "source": [
    "\n",
    "with open('TransformedTXT.txt') as transformed:\n",
    "  transformed_lines = transformed.readlines()\n",
    "print(transformed_lines[0])"
   ]
  },
  {
   "cell_type": "code",
   "execution_count": null,
   "id": "ff0617bd",
   "metadata": {},
   "outputs": [],
   "source": []
  }
 ],
 "metadata": {
  "kernelspec": {
   "display_name": "Python 3 (ipykernel)",
   "language": "python",
   "name": "python3"
  },
  "language_info": {
   "codemirror_mode": {
    "name": "ipython",
    "version": 3
   },
   "file_extension": ".py",
   "mimetype": "text/x-python",
   "name": "python",
   "nbconvert_exporter": "python",
   "pygments_lexer": "ipython3",
   "version": "3.10.9"
  }
 },
 "nbformat": 4,
 "nbformat_minor": 5
}
