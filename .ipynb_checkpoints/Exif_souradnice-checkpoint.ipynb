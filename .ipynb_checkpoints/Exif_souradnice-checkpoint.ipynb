{
 "cells": [
  {
   "cell_type": "code",
   "execution_count": 18,
   "id": "d255a5dc",
   "metadata": {},
   "outputs": [
    {
     "name": "stdout",
     "output_type": "stream",
     "text": [
      "EXIF data byla uložena do souboru exif_data.txt\n"
     ]
    }
   ],
   "source": [
    "import os\n",
    "import exifread\n",
    "import pandas as pd\n",
    "\n",
    "\n",
    "# Adresář, ve kterém se nachází fotografie\n",
    "fotky_adresar = 'D:\\skola\\diplomka\\TriDvory2007-20230731T071121Z-001\\TriDvory2007'\n",
    "\n",
    "# Funkce pro extrakci EXIF dat z jedné fotografie\n",
    "def extrahovat_exif(foto):\n",
    "    with open(foto, 'rb') as soubor:\n",
    "        tags = exifread.process_file(soubor, details=False)\n",
    "        return tags\n",
    "\n",
    "# Seznam všech fotografií v adresáři\n",
    "fotky = [os.path.join(fotky_adresar, soubor) for soubor in os.listdir(fotky_adresar) if soubor.lower().endswith(('.jpg', '.jpeg', '.png', '.gif'))]\n",
    "\n",
    "# Název výstupního textového souboru\n",
    "vystupni_soubor = 'exif_data.txt'\n",
    "\n",
    "# Otevřít textový soubor pro zápis všeho\n",
    "with open(vystupni_soubor, 'w') as soubor:\n",
    "    for foto in fotky:\n",
    "        exif_data = extrahovat_exif(foto)\n",
    "        soubor.write(f\"EXIF data pro fotografii: {foto}\\n\")\n",
    "        for tag, hodnota in exif_data.items():\n",
    "            soubor.write(f\"{tag}: {hodnota}\\n\")\n",
    "        soubor.write(\"\\n\")\n",
    "\n",
    "print(f\"EXIF data byla uložena do souboru {vystupni_soubor}\")"
   ]
  },
  {
   "cell_type": "code",
   "execution_count": 25,
   "id": "dcea4de0",
   "metadata": {},
   "outputs": [
    {
     "name": "stdout",
     "output_type": "stream",
     "text": [
      "EXIF data byla uložena do souboru exif_gps_data.txt\n"
     ]
    }
   ],
   "source": [
    "# Název výstupního textového souboru souřadnic\n",
    "#smrt\n",
    "vystupni_soubor_gps = 'exif_gps_data.txt'\n",
    "\n",
    "def Zlomek_float(string):\n",
    "    string = str(string)\n",
    "    cit, jmen = string.split( '/' )\n",
    "    return float(cit)/float(jmen)\n",
    "\n",
    "def Souradnice_list(string):\n",
    "    souradnice_str = str(hodnota).replace(\"[\", \"\").replace(\"]\", \"\")\n",
    "    li = list(souradnice_str.split(\", \"))\n",
    "    li[0] = int(li[0])\n",
    "    li[1] = int(li[1])\n",
    "    li[2] = Zlomek_float(li[2])\n",
    "    return li\n",
    "\n",
    "\n",
    "# Otevřít textový soubor pro zápis souřadnic\n",
    "with open(vystupni_soubor_gps, 'w') as soubor:\n",
    "    for foto in fotky:\n",
    "        exif_data = extrahovat_exif(foto)\n",
    "        soubor.write(f\"{foto} \")\n",
    "        for tag, hodnota in exif_data.items():\n",
    "            if (tag == 'GPS GPSLatitude' or tag == 'GPS GPSLongitude'):\n",
    "                #upravena_hodnota = str(hodnota).replace(\",\", \"\").replace(\"[\", \"\").replace(\"]\", \"\")\n",
    "                souradnice_li = Souradnice_list(hodnota)\n",
    "                souradnice_str = str(souradnice_li).replace(\",\", \"\").replace(\"[\", \"\").replace(\"]\", \"\")\n",
    "                soubor.write(f\"{souradnice_str} \")\n",
    "                \n",
    "            elif (tag == 'GPS GPSAltitude'):\n",
    "                vyska_float = Zlomek_float(hodnota)\n",
    "                soubor.write(f\"{vyska_float}\")\n",
    "                \n",
    "        soubor.write(\"\\n\")\n",
    "\n",
    "print(f\"EXIF data byla uložena do souboru {vystupni_soubor_gps}\")"
   ]
  },
  {
   "cell_type": "markdown",
   "id": "84149fa2",
   "metadata": {},
   "source": [
    "Name\n",
    "GpsLatitude\n",
    "GpsLongitude\n",
    "GpsAltitude\n",
    "RtkStdLat\n",
    "RtkStdLon\n",
    "GimbalYawDegree\n",
    "GimbalPitchDegree\n",
    "GimbalRollDegree"
   ]
  },
  {
   "cell_type": "code",
   "execution_count": 31,
   "id": "5e9ddfd4",
   "metadata": {},
   "outputs": [
    {
     "name": "stdout",
     "output_type": "stream",
     "text": [
      "['DJI_20230720093600_0039_D.JPG\\t-684560.978 -1056447.577 233.638\\t\\t\\n', 'DJI_20230720093710_0070_D.JPG\\t-684569.735 -1056435.862 233.592\\t\\t\\n', 'DJI_20230720093801_0093_D.JPG\\t-684546.142 -1056442.128 233.673\\t\\t\\n', 'DJI_20230720093859_0119_D.JPG\\t-684596.051 -1056412.29 233.632\\t\\t\\n', 'DJI_20230720094051_0169_D.JPG\\t-684528.646 -1056438.175 233.631\\t\\t\\n', 'DJI_20230720094156_0198_D.JPG\\t-684585.59 -1056406.484 233.622\\t\\t\\n', 'DJI_20230720094208_0203_D.JPG\\t-684595.409 -1056401.02 233.622\\t\\t\\n', 'DJI_20230720094315_0233_D.JPG\\t-684542.651 -1056423.517 233.613\\t\\t\\n', 'DJI_20230720094529_0293_D.JPG\\t-684574.511 -1056399.08 233.633\\t\\t\\n', 'DJI_20230720094630_0320_D.JPG\\t-684538.357 -1056412.295 233.622\\t\\t\\n', 'DJI_20230720094704_0335_D.JPG\\t-684508.668 -1056428.8 233.618\\t\\t\\n', 'DJI_20230720094757_0359_D.JPG\\t-684541.635 -1056403.626 233.623\\t\\t\\n', 'DJI_20230720095517_0044_D.JPG\\t-684582.971 -1056385.343 222.538\\t\\t\\n', 'DJI_20230720095610_0059_D.JPG\\t-684568.652 -1056389.628 215.783\\t\\t\\n', 'DJI_20230720095749_0082_D.JPG\\t-684559.747 -1056418.573 215.62\\t\\t\\n', 'DJI_20230720100408_0020_D.JPG\\t-684577.041 -1056457.985 214.697\\t\\t\\n', 'DJI_20230720100606_0052_D.JPG\\t-684541.823 -1056422.189 217.657\\t\\t\\n', 'DJI_20230720100853_0091_D.JPG\\t-684562.02 -1056423.723 220.758\\t\\t\\n', 'DJI_20230720101005_0109_D.JPG\\t-684540.727 -1056422.48 221.287\\t\\t\\n', 'DJI_20230720101012_0112_D.JPG\\t-684540.776 -1056422.231 221.239\\t\\t\\n', 'DJI_20230720101014_0113_D.JPG\\t-684540.81 -1056422.23 221.258\\t\\t\\n', 'DJI_20230720101016_0114_D.JPG\\t-684540.833 -1056422.286 221.268\\t\\t\\n', 'DJI_20230720101019_0115_D.JPG\\t-684540.913 -1056422.345 221.292\\t\\t\\n', 'DJI_20230720101021_0116_D.JPG\\t-684540.951 -1056422.439 221.311\\t\\t\\n', 'DJI_20230720101023_0117_D.JPG\\t-684540.913 -1056422.444 221.323\\t\\t\\n', 'DJI_20230720101025_0118_D.JPG\\t-684540.788 -1056422.472 221.307\\t\\t\\n', 'DJI_20230720101028_0119_D.JPG\\t-684540.74 -1056422.503 221.299\\t\\t\\n', 'DJI_20230720101110_0120_D.JPG\\t-684560.725 -1056380.493 221.072\\t\\t\\n', 'DJI_20230720101112_0121_D.JPG\\t-684560.74 -1056380.516 221.135\\t\\t\\n', 'DJI_20230720101114_0122_D.JPG\\t-684560.861 -1056380.557 221.144\\t\\t\\n', 'DJI_20230720101116_0123_D.JPG\\t-684560.833 -1056380.554 221.108\\t\\t\\n', 'DJI_20230720101118_0124_D.JPG\\t-684560.816 -1056380.584 221.075\\t\\t\\n', 'DJI_20230720101121_0125_D.JPG\\t-684560.872 -1056380.624 221.098\\t\\t\\n', 'DJI_20230720101123_0126_D.JPG\\t-684560.914 -1056380.647 221.124\\t\\t\\n', 'DJI_20230720101125_0127_D.JPG\\t-684560.974 -1056380.661 221.182\\t\\t\\n', 'DJI_20230720101127_0128_D.JPG\\t-684561.042 -1056380.624 221.253\\t\\t\\n', 'DJI_20230720101130_0129_D.JPG\\t-684561.025 -1056380.633 221.283\\t\\t\\n']\n"
     ]
    }
   ],
   "source": [
    "\n",
    "with open('TransformedTXT.txt') as transformed:\n",
    "  transformed_lines = transformed.readlines()\n",
    "for line in transformed_lines:\n",
    "    line = line.replace(\"\\t\", \"\")\n",
    "print(transformed_lines)"
   ]
  },
  {
   "cell_type": "code",
   "execution_count": null,
   "id": "ff0617bd",
   "metadata": {},
   "outputs": [],
   "source": []
  }
 ],
 "metadata": {
  "kernelspec": {
   "display_name": "Python 3 (ipykernel)",
   "language": "python",
   "name": "python3"
  },
  "language_info": {
   "codemirror_mode": {
    "name": "ipython",
    "version": 3
   },
   "file_extension": ".py",
   "mimetype": "text/x-python",
   "name": "python",
   "nbconvert_exporter": "python",
   "pygments_lexer": "ipython3",
   "version": "3.10.9"
  }
 },
 "nbformat": 4,
 "nbformat_minor": 5
}
