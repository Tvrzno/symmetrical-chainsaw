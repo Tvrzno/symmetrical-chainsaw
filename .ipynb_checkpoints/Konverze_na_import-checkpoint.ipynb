{
 "cells": [
  {
   "cell_type": "code",
   "execution_count": 1,
   "id": "df7bab65",
   "metadata": {},
   "outputs": [
    {
     "name": "stderr",
     "output_type": "stream",
     "text": [
      "usage: ipykernel_launcher.py [-h] konvertovane_data fotky_adresar\n",
      "ipykernel_launcher.py: error: the following arguments are required: fotky_adresar\n"
     ]
    },
    {
     "ename": "SystemExit",
     "evalue": "2",
     "output_type": "error",
     "traceback": [
      "An exception has occurred, use %tb to see the full traceback.\n",
      "\u001b[1;31mSystemExit\u001b[0m\u001b[1;31m:\u001b[0m 2\n"
     ]
    },
    {
     "name": "stderr",
     "output_type": "stream",
     "text": [
      "C:\\Users\\mates\\AppData\\Roaming\\Python\\Python311\\site-packages\\IPython\\core\\interactiveshell.py:3450: UserWarning: To exit: use 'exit', 'quit', or Ctrl-D.\n",
      "  warn(\"To exit: use 'exit', 'quit', or Ctrl-D.\", stacklevel=1)\n"
     ]
    }
   ],
   "source": [
    "import os\n",
    "from exiftool import ExifToolHelper\n",
    "import argparse\n",
    "\n",
    "# Vytvoření parseru pro zpracování argumentů z příkazové řádky\n",
    "parser = argparse.ArgumentParser(description=\"Provede konverzi transformovaných dat na import do Reality Capture.\")\n",
    "\n",
    "parser.add_argument(\"konvertovane_data\", help=\"Cesta k dokumentu s konvertovanými daty z ČUZK\")\n",
    "parser.add_argument(\"fotky_adresar\", help=\"Cesta k adresáři s fotkami\")\n",
    "\n",
    "# Zpracování argumentů z příkazové řádky\n",
    "args = parser.parse_args()\n",
    "\n",
    "# Získání hodnoty zadaného adresáře\n",
    "konvertovane_data = args.konvertovane_data\n",
    "fotky_adresar = args.fotky_adresar\n",
    "\n",
    "# Kontrola, zda zadaný adresář existuje\n",
    "if not os.path.exists(konvertovane_data):\n",
    "    print(f\"Adresář '{konvertovane_data}' neexistuje.\")\n",
    "else:\n",
    "    print(f\"Zadali jste adresář s konvertovanymi daty: {konvertovane_data}\")\n",
    "\n",
    "if not os.path.exists(fotky_adresar):\n",
    "    print(f\"Adresář '{fotky_adresar}' neexistuje.\")\n",
    "else:\n",
    "    print(f\"Zadali jste adresář s fotkami: {fotky_adresar}\")  \n",
    "    \n",
    " \n",
    "relativni_cesta_exiftool = \"./exiftool(-k).exe\"\n",
    "\n",
    "# Seznam všech fotografií v adresáři\n",
    "fotky = [os.path.join(fotky_adresar, soubor) for soubor in os.listdir(fotky_adresar) if soubor.lower().endswith(('.jpg', '.jpeg', '.png', '.gif'))]\n",
    "\n",
    "# Funkce pro extrakci EXIF dat z jedné fotografie\n",
    "def extrahovat_exif(foto):\n",
    "    tags = {}\n",
    "    with ExifToolHelper(executable = relativni_cesta_exiftool) as et:\n",
    "        for d in et.get_metadata(foto):\n",
    "            for tag, hodnota in d.items():\n",
    "                tags[tag] = hodnota\n",
    "    return tags\n",
    "\n",
    "exif_data = []\n",
    "\n",
    "for foto in fotky:\n",
    "    exif_data.append(extrahovat_exif(foto))\n",
    "    \n",
    "\n",
    "#tvorba finalniho txt\n",
    "\n",
    "\n",
    "with open(konvertovane_data) as transformovane_sour:\n",
    "  transformovane_sour_radky = transformovane_sour.readlines()\n",
    "\n",
    "vystupni_soubor = 'finalni_vystup.txt'\n",
    "\n",
    "# Name GpsLatitude GpsLongitude GpsAltitude RtkStdLat RtkStdLon GimbalYawDegree GimbalPitchDegree GimbalRollDegree\n",
    "#pozadovane_tagy = ['XMP:RtkStdLat', 'XMP:RtkStdLon', 'XMP:GimbalYawDegree', 'XMP:GimbalPitchDegree', 'XMP:GimbalRollDegree']\n",
    "\n",
    "\n",
    "with open(vystupni_soubor, 'w') as soubor:\n",
    "    for i in range(0, len(transformovane_sour_radky)):\n",
    "        radek = f\"{transformovane_sour_radky[i]} {exif_data[i].get('XMP:RtkStdLat')} {exif_data[i].get('XMP:RtkStdLon')} {exif_data[i].get('XMP:GimbalYawDegree')} {exif_data[i].get('XMP:GimbalPitchDegree')} {exif_data[i].get('XMP:GimbalRollDegree')}\"\n",
    "        radek = radek.replace('\\t', ' ').replace('\\n', ' ').replace('   ', '')\n",
    "        soubor.write(f\"{radek}\\n\")\n",
    "\n",
    "print(f\"Data byla uložena do souboru {vystupni_soubor}\")\n"
   ]
  }
 ],
 "metadata": {
  "kernelspec": {
   "display_name": "Python 3 (ipykernel)",
   "language": "python",
   "name": "python3"
  },
  "language_info": {
   "codemirror_mode": {
    "name": "ipython",
    "version": 3
   },
   "file_extension": ".py",
   "mimetype": "text/x-python",
   "name": "python",
   "nbconvert_exporter": "python",
   "pygments_lexer": "ipython3",
   "version": "3.11.1"
  }
 },
 "nbformat": 4,
 "nbformat_minor": 5
}
