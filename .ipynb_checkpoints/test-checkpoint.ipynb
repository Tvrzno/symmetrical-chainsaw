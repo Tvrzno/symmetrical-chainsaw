{
 "cells": [
  {
   "cell_type": "code",
   "execution_count": 1,
   "id": "b78e401d",
   "metadata": {},
   "outputs": [
    {
     "name": "stderr",
     "output_type": "stream",
     "text": [
      "usage: ipykernel_launcher.py [-h] fotky_adresar\n",
      "ipykernel_launcher.py: error: unrecognized arguments: -f\n"
     ]
    },
    {
     "ename": "SystemExit",
     "evalue": "2",
     "output_type": "error",
     "traceback": [
      "An exception has occurred, use %tb to see the full traceback.\n",
      "\u001b[1;31mSystemExit\u001b[0m\u001b[1;31m:\u001b[0m 2\n"
     ]
    },
    {
     "name": "stderr",
     "output_type": "stream",
     "text": [
      "C:\\Users\\mates\\AppData\\Roaming\\Python\\Python311\\site-packages\\IPython\\core\\interactiveshell.py:3450: UserWarning: To exit: use 'exit', 'quit', or Ctrl-D.\n",
      "  warn(\"To exit: use 'exit', 'quit', or Ctrl-D.\", stacklevel=1)\n"
     ]
    }
   ],
   "source": [
    "import os\n",
    "from exiftool import ExifToolHelper\n",
    "import argparse\n",
    "\n",
    "# Vytvoření parseru pro zpracování argumentů z příkazové řádky\n",
    "parser = argparse.ArgumentParser(description=\"Extrahuje EXIF data z fotek v daném adresáři.\")\n",
    "\n",
    "# Přidání argumentu pro zadání adresáře s fotkami\n",
    "parser.add_argument(\"fotky_adresar\", help=\"Cesta k adresáři s fotkami\")\n",
    "\n",
    "# Zpracování argumentů z příkazové řádky\n",
    "args = parser.parse_args()\n",
    "\n",
    "# Získání hodnoty zadaného adresáře\n",
    "fotky_adresar = args.fotky_adresar\n",
    "\n",
    "# Kontrola, zda zadaný adresář existuje\n",
    "if not os.path.exists(fotky_adresar):\n",
    "    print(f\"Adresář '{fotky_adresar}' neexistuje.\")\n",
    "else:\n",
    "    print(f\"Zadali jste adresář s fotkami: {fotky_adresar}\")\n",
    "\n",
    "relativni_cesta_exiftool = \"./exiftool(-k).exe\"\n",
    "\n",
    "# Seznam všech fotografií v adresáři\n",
    "fotky = [os.path.join(fotky_adresar, soubor) for soubor in os.listdir(fotky_adresar) if soubor.lower().endswith(('.jpg', '.jpeg', '.png', '.gif'))]\n",
    "\n",
    "# Seznam požadovaných tagů\n",
    "pozadovane_tagy = ['EXIF:GPSLatitude', 'EXIF:GPSLongitude', 'EXIF:GPSAltitude']\n",
    "\n",
    "#Funkce na výpis jen daných tagů \n",
    "def extrahovat_exif_castecne(foto, tagy):\n",
    "    tags = ''\n",
    "    with ExifToolHelper(executable = \"C:\\\\Users\\\\mates\\\\CodeCademy\\\\symmetrical-chainsaw\\\\exiftool(-k).exe\") as et:\n",
    "        for d in et.get_metadata(foto):\n",
    "            for tag, hodnota in d.items():\n",
    "                if tag in tagy:                 \n",
    "                    tags += f\"{hodnota} \"\n",
    "    return tags\n",
    "\n",
    "# Název výstupního textového souboru\n",
    "vystupni_soubor = 'exif_gps_wgs.txt'\n",
    "\n",
    "# Otevřít textový soubor pro zápis všeho\n",
    "with open(vystupni_soubor, 'w') as soubor:\n",
    "    for foto in fotky:\n",
    "        exif_data = extrahovat_exif_castecne(foto, pozadovane_tagy)\n",
    "        soubor.write(f\"{foto} \")\n",
    "        for tag_hodnota in exif_data:\n",
    "            soubor.write(f\"{tag_hodnota}\")\n",
    "        soubor.write(\"\\n\")\n",
    "\n",
    "print(f\"EXIF data byla uložena do souboru {vystupni_soubor}\")\n"
   ]
  }
 ],
 "metadata": {
  "kernelspec": {
   "display_name": "Python 3 (ipykernel)",
   "language": "python",
   "name": "python3"
  },
  "language_info": {
   "codemirror_mode": {
    "name": "ipython",
    "version": 3
   },
   "file_extension": ".py",
   "mimetype": "text/x-python",
   "name": "python",
   "nbconvert_exporter": "python",
   "pygments_lexer": "ipython3",
   "version": "3.10.9"
  }
 },
 "nbformat": 4,
 "nbformat_minor": 5
}
