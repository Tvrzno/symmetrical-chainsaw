{
 "cells": [
  {
   "cell_type": "code",
   "execution_count": 4,
   "id": "d255a5dc",
   "metadata": {},
   "outputs": [
    {
     "name": "stdout",
     "output_type": "stream",
     "text": [
      "EXIF data byla uložena do souboru exif_data.txt\n"
     ]
    }
   ],
   "source": [
    "import os\n",
    "from exiftool import ExifToolHelper\n",
    "\n",
    "\n",
    "# Adresář, ve kterém se nachází fotografie\n",
    "# C:\\diplomka\\TriDvory2007\n",
    "# D:\\skola\\diplomka\\TriDvory2007-20230731T071121Z-001\\TriDvory2007\n",
    "fotky_adresar = 'D:\\skola\\diplomka\\TriDvory2007-20230731T071121Z-001\\TriDvory2007'\n",
    "\n",
    "# Seznam všech fotografií v adresáři\n",
    "fotky = [os.path.join(fotky_adresar, soubor) for soubor in os.listdir(fotky_adresar) if soubor.lower().endswith(('.jpg', '.jpeg', '.png', '.gif'))]\n",
    "\n",
    "# Funkce pro extrakci EXIF dat z jedné fotografie\n",
    "def extrahovat_exif(foto):\n",
    "    tags = {}\n",
    "    with ExifToolHelper(executable = \".\\exiftool(-k).exe\") as et:\n",
    "        for d in et.get_metadata(foto):\n",
    "            for tag, hodnota in d.items():\n",
    "                tags[tag] = hodnota\n",
    "    return tags\n",
    "\n",
    "# Název výstupního textového souboru\n",
    "vystupni_soubor = 'exif_data.txt'\n",
    "\n",
    "exif_data = []\n",
    "\n",
    "for foto in fotky:\n",
    "    exif_data.append(extrahovat_exif(foto))\n",
    "    \n",
    "# Otevřít textový soubor pro zápis všeho\n",
    "with open(vystupni_soubor, 'w') as soubor:\n",
    "    for item in exif_data:\n",
    "        soubor.write(str(item))\n",
    "        soubor.write(\"\\n\\n\")\n",
    "print(f\"EXIF data byla uložena do souboru {vystupni_soubor}\")"
   ]
  },
  {
   "cell_type": "code",
   "execution_count": 19,
   "id": "dfc960cf",
   "metadata": {},
   "outputs": [
    {
     "name": "stdout",
     "output_type": "stream",
     "text": [
      "EXIF data byla uložena do souboru exif_gps_data.txt\n"
     ]
    }
   ],
   "source": [
    "\n",
    "# Seznam požadovaných tagů\n",
    "pozadovane_tagy = ['EXIF:GPSLatitude', 'EXIF:GPSLongitude', 'EXIF:GPSAltitude']\n",
    "\n",
    "#Funkce na výpis jen daných tagů \n",
    "def extrahovat_exif_castecne(foto, tagy):\n",
    "    tags = ''\n",
    "    with ExifToolHelper(executable = \"C:\\\\Users\\\\mates\\\\CodeCademy\\\\symmetrical-chainsaw\\\\exiftool(-k).exe\") as et:\n",
    "        for d in et.get_metadata(foto):\n",
    "            for tag, hodnota in d.items():\n",
    "                if tag in tagy:                 \n",
    "                    tags += f\"{hodnota} \"\n",
    "    return tags\n",
    "\n",
    "\n",
    "# Název výstupního textového souboru\n",
    "vystupni_soubor = 'exif_gps_data.txt'\n",
    "\n",
    "# Otevřít textový soubor pro zápis všeho\n",
    "with open(vystupni_soubor, 'w') as soubor:\n",
    "    for foto in fotky:\n",
    "        exif_data = extrahovat_exif_castecne(foto, pozadovane_tagy)\n",
    "        soubor.write(f\"{foto} \")\n",
    "        for tag_hodnota in exif_data:\n",
    "            soubor.write(f\"{tag_hodnota}\")\n",
    "        soubor.write(\"\\n\")\n",
    "\n",
    "print(f\"EXIF data byla uložena do souboru {vystupni_soubor}\")"
   ]
  },
  {
   "cell_type": "code",
   "execution_count": 21,
   "id": "05c48e09",
   "metadata": {},
   "outputs": [
    {
     "name": "stdout",
     "output_type": "stream",
     "text": [
      "EXIF data byla uložena do souboru before_merge.txt\n"
     ]
    }
   ],
   "source": [
    "vystupni_soubor = 'before_merge.txt'\n",
    "pozadovane_tagy = ['XMP:RtkStdLat', 'XMP:RtkStdLon', 'XMP:GimbalYawDegree', 'XMP:GimbalPitchDegree', 'XMP:GimbalRollDegree']\n",
    "\n",
    "# Otevřít textový soubor pro zápis všeho\n",
    "with open(vystupni_soubor, 'w') as soubor:\n",
    "    for foto in fotky:\n",
    "        exif_data = extrahovat_exif_castecne(foto, pozadovane_tagy)\n",
    "        for tag_hodnota in exif_data:\n",
    "            soubor.write(f\"{tag_hodnota}\")\n",
    "        soubor.write(\"\\n\")\n",
    "\n",
    "print(f\"EXIF data byla uložena do souboru {vystupni_soubor}\")\n"
   ]
  },
  {
   "cell_type": "markdown",
   "id": "84149fa2",
   "metadata": {},
   "source": [
    "Name\n",
    "GpsLatitude\n",
    "GpsLongitude\n",
    "GpsAltitude\n",
    "RtkStdLat\n",
    "RtkStdLon\n",
    "GimbalYawDegree\n",
    "GimbalPitchDegree\n",
    "GimbalRollDegree"
   ]
  },
  {
   "cell_type": "code",
   "execution_count": 30,
   "id": "5e9ddfd4",
   "metadata": {},
   "outputs": [
    {
     "name": "stdout",
     "output_type": "stream",
     "text": [
      "Data byla uložena do souboru finalni_vystup.txt\n"
     ]
    }
   ],
   "source": [
    "\n",
    "with open('TransformedTXT.txt') as transformovane_sour:\n",
    "  transformovane_sour_radky = transformovane_sour.readlines()\n",
    "\n",
    "\n",
    "with open('before_merge.txt') as ostatni_data:\n",
    "  ostatni_data_radky = ostatni_data.readlines()\n",
    "\n",
    "\n",
    "vystupni_soubor = 'finalni_vystup.txt'\n",
    "\n",
    "with open(vystupni_soubor, 'w') as soubor:\n",
    "    for i in range(0, len(transformovane_sour_radky)):\n",
    "        radek = f\"{transformovane_sour_radky[i]} {ostatni_data_radky[i]}\".replace('\\t', ' ').replace('\\n', ' ').replace('   ', '')\n",
    "        soubor.write(f\"{radek}\\n\")\n",
    "\n",
    "print(f\"Data byla uložena do souboru {vystupni_soubor}\")"
   ]
  },
  {
   "cell_type": "code",
   "execution_count": null,
   "id": "ff0617bd",
   "metadata": {},
   "outputs": [],
   "source": []
  }
 ],
 "metadata": {
  "kernelspec": {
   "display_name": "Python 3 (ipykernel)",
   "language": "python",
   "name": "python3"
  },
  "language_info": {
   "codemirror_mode": {
    "name": "ipython",
    "version": 3
   },
   "file_extension": ".py",
   "mimetype": "text/x-python",
   "name": "python",
   "nbconvert_exporter": "python",
   "pygments_lexer": "ipython3",
   "version": "3.10.9"
  }
 },
 "nbformat": 4,
 "nbformat_minor": 5
}
